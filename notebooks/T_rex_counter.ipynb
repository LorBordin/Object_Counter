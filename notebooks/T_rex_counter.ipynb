{
  "nbformat": 4,
  "nbformat_minor": 0,
  "metadata": {
    "colab": {
      "name": "T-rex_counter.ipynb",
      "provenance": [],
      "collapsed_sections": [],
      "authorship_tag": "ABX9TyOAKWo+DL/yF549/ftgSkiG",
      "include_colab_link": true
    },
    "kernelspec": {
      "display_name": "Python 3",
      "name": "python3"
    },
    "language_info": {
      "name": "python"
    }
  },
  "cells": [
    {
      "cell_type": "markdown",
      "metadata": {
        "id": "view-in-github",
        "colab_type": "text"
      },
      "source": [
        "<a href=\"https://colab.research.google.com/github/LorBordin/object_counter/blob/master/notebooks/T_rex_counter.ipynb\" target=\"_parent\"><img src=\"https://colab.research.google.com/assets/colab-badge.svg\" alt=\"Open In Colab\"/></a>"
      ]
    },
    {
      "cell_type": "markdown",
      "metadata": {
        "id": "jpJqk_LYkksM"
      },
      "source": [
        "## 1. Copy the object counter folder"
      ]
    },
    {
      "cell_type": "code",
      "metadata": {
        "id": "HwoOAQ1pkre4"
      },
      "source": [
        "!git clone https://github.com/LorBordin/object_counter"
      ],
      "execution_count": null,
      "outputs": []
    },
    {
      "cell_type": "markdown",
      "metadata": {
        "id": "1GpDvNHSk7Nz"
      },
      "source": [
        "## 2. Install requirements and upgrade opencv"
      ]
    },
    {
      "cell_type": "code",
      "metadata": {
        "id": "3pXP1Xq1k309"
      },
      "source": [
        "%cd object_counter/\n",
        "!pip install -r requirements.txt"
      ],
      "execution_count": null,
      "outputs": []
    },
    {
      "cell_type": "code",
      "metadata": {
        "id": "S7TCVX9PoMPa"
      },
      "source": [
        "!pip install --upgrade opencv-python\n",
        "!pip install youtube_dl"
      ],
      "execution_count": null,
      "outputs": []
    },
    {
      "cell_type": "markdown",
      "metadata": {
        "id": "EB1kCqnIlTLA"
      },
      "source": [
        "## 3. Run `object_counter.py` on a video"
      ]
    },
    {
      "cell_type": "markdown",
      "metadata": {
        "id": "gSy-Jty43Tha"
      },
      "source": [
        "Download and cut a short portion of a video from Youtube"
      ]
    },
    {
      "cell_type": "code",
      "metadata": {
        "id": "qtds8C1l22Wp"
      },
      "source": [
        "!youtube-dl https://www.youtube.com/watch?v=PFBR2IUGJ2Q -f mp4 --output sample.mp4\n",
        "!ffmpeg -i sample.mp4 -ss 00:00:33 -t 33 sample_33s.mp4"
      ],
      "execution_count": null,
      "outputs": []
    },
    {
      "cell_type": "code",
      "metadata": {
        "id": "iLfa8FXblEY8"
      },
      "source": [
        "!python object_counter.py -m counter -v sample_33s.mp4 -o sample_out.avi -s 0 -names models/t_rex/obj.names -cfg models/t_rex/yolov4-tiny.cfg -weights models/t_rex/yolov4-tiny_best.weights"
      ],
      "execution_count": null,
      "outputs": []
    },
    {
      "cell_type": "markdown",
      "metadata": {
        "id": "trOBxmdr3116"
      },
      "source": [
        "## 4. Show the output video"
      ]
    },
    {
      "cell_type": "code",
      "metadata": {
        "id": "DKlQmHz-yS8u"
      },
      "source": [
        "!ffmpeg -i ./sample_out.avi sample_out.mp4"
      ],
      "execution_count": null,
      "outputs": []
    },
    {
      "cell_type": "code",
      "metadata": {
        "colab": {
          "background_save": true
        },
        "id": "aE0Egl9Pyquf"
      },
      "source": [
        "from IPython.display import HTML\n",
        "from base64 import b64encode\n",
        "mp4 = open('sample_out.mp4','rb').read()\n",
        "data_url = \"data:video/mp4;base64,\" + b64encode(mp4).decode()\n",
        "HTML(\"\"\"\n",
        "<video width=800 controls>\n",
        "      <source src=\"%s\" type=\"video/mp4\">\n",
        "</video>\n",
        "\"\"\" % data_url)"
      ],
      "execution_count": null,
      "outputs": []
    }
  ]
}